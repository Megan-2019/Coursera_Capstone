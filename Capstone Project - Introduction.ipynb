{
 "cells": [
  {
   "cell_type": "markdown",
   "metadata": {},
   "source": [
    "# Potential Business Opportunities in Los Angeles County\n",
    "\n",
    "## Introduction\n",
    "\n",
    "###### Los Angeles county is the moset populous county in the United States with more than ten million inhabitants as of 2019. It has 88 incorporated cities and many uncncoporated areas. Different culture,languages and cuisines also make Los Angeles County a international metropolis. Due to the population and broad area, there are a lot of business oppurtunities in this area. The city governments may think about how to improve the quality of life and convinence for the residents living in the cities. On the other hand, many companies are also thinking and looking for the business opportunities in Los Angeles area. \n",
    "##### It could be hard for companies to make any business decisions if they don't have big pictures of what the cities actually need. In this project, we will use geographic information for each city to fetch neighborhood venues via Foursquare API. Based on the most popular venues information found in each city, we can compare the category of venues among the cities in Los Angeles county. To make the result more accurate, we will also include the data of city population, average age, household size and income.  We will analyze and find out where the potiential opportunities are for the cities in Los Angeles county or what kind of business can be succesful in each city. \n"
   ]
  },
  {
   "cell_type": "code",
   "execution_count": null,
   "metadata": {},
   "outputs": [],
   "source": []
  }
 ],
 "metadata": {
  "kernelspec": {
   "display_name": "Python 3",
   "language": "python",
   "name": "python3"
  },
  "language_info": {
   "codemirror_mode": {
    "name": "ipython",
    "version": 3
   },
   "file_extension": ".py",
   "mimetype": "text/x-python",
   "name": "python",
   "nbconvert_exporter": "python",
   "pygments_lexer": "ipython3",
   "version": "3.7.3"
  }
 },
 "nbformat": 4,
 "nbformat_minor": 2
}
